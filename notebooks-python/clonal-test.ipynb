{
 "cells": [
  {
   "cell_type": "code",
   "execution_count": 4,
   "id": "e1513221",
   "metadata": {},
   "outputs": [],
   "source": [
    "import os"
   ]
  },
  {
   "cell_type": "code",
   "execution_count": 1,
   "id": "87593981",
   "metadata": {},
   "outputs": [
    {
     "name": "stderr",
     "output_type": "stream",
     "text": [
      "C:\\Python311\\Lib\\site-packages\\scvi\\_settings.py:63: UserWarning: Since v1.0.0, scvi-tools no longer uses a random seed by default. Run `scvi.settings.seed = 0` to reproduce results from previous versions.\n",
      "  self.seed = seed\n",
      "C:\\Python311\\Lib\\site-packages\\scvi\\_settings.py:70: UserWarning: Setting `dl_pin_memory_gpu_training` is deprecated in v1.0 and will be removed in v1.1. Please pass in `pin_memory` to the data loaders instead.\n",
      "  self.dl_pin_memory_gpu_training = (\n"
     ]
    }
   ],
   "source": [
    "### Import all dependencies ###\n",
    "\n",
    "import anndata as ad\n",
    "import matplotlib.pyplot as plt\n",
    "import mudata as md\n",
    "import muon\n",
    "import scanpy as sc\n",
    "import scvi\n",
    "import numpy as np\n",
    "import pandas as pd\n",
    "import csv"
   ]
  },
  {
   "cell_type": "code",
   "execution_count": 5,
   "id": "445ddb91",
   "metadata": {},
   "outputs": [
    {
     "data": {
      "text/plain": [
       "'C:\\\\Users\\\\satra\\\\Documents\\\\uOttawa\\\\Semester 5.1\\\\CSI 4900'"
      ]
     },
     "execution_count": 5,
     "metadata": {},
     "output_type": "execute_result"
    }
   ],
   "source": [
    "os.getcwd()"
   ]
  },
  {
   "cell_type": "code",
   "execution_count": 3,
   "id": "f319c92d",
   "metadata": {},
   "outputs": [],
   "source": [
    "%%capture [--no-display]\n",
    "\n",
    "adataTH1 = muon.read_10x_h5(\"D:/genomics/data/updated/raw_data/TH1/filtered_feature_bc_matrix.h5\")\n",
    "adataTH1.var_names_make_unique()\n",
    "\n",
    "adataTH2 = muon.read_10x_h5(\"D:/genomics/data/updated/raw_data/TH2/filtered_feature_bc_matrix.h5\")\n",
    "adataTH2.var_names_make_unique()\n",
    "\n",
    "# adataBM1 = muon.read_10x_h5(\"./data/updated/raw_data/BM1/filtered_feature_bc_matrix.h5\")\n",
    "# adataBM1.var_names_make_unique()\n",
    "# adataBM2 = muon.read_10x_h5(\"./data/updated/raw_data/BM2/filtered_feature_bc_matrix.h5\")\n",
    "# adataBM2.var_names_make_unique()\n",
    "# adataBM3 = muon.read_10x_h5(\"./data/updated/raw_data/BM3/filtered_feature_bc_matrix.h5\")\n",
    "# adataBM3.var_names_make_unique()\n",
    "\n",
    "adataBM4 = muon.read_10x_h5(\"D:/genomics/data/updated/raw_data/BM4/filtered_feature_bc_matrix.h5\")\n",
    "adataBM4.var_names_make_unique()\n",
    "\n",
    "# adataPB1 = muon.read_10x_h5(\"/Users/stur/Workspace/Human/PB1-05H183-TLX1-M/outs/filtered_feature_bc_matrix.h5\")\n",
    "# adataPB1.var_names_make_unique()\n",
    "\n",
    "adataPB2 = muon.read_10x_h5(\"D:/genomics/data/updated/raw_data/PB2/filtered_feature_bc_matrix.h5\")\n",
    "adataPB2.var_names_make_unique()"
   ]
  },
  {
   "cell_type": "code",
   "execution_count": 4,
   "id": "f66af2f0",
   "metadata": {},
   "outputs": [
    {
     "data": {
      "text/plain": [
       "AnnData object with n_obs × n_vars = 5064 × 36601\n",
       "    var: 'gene_ids', 'feature_types', 'genome'"
      ]
     },
     "execution_count": 4,
     "metadata": {},
     "output_type": "execute_result"
    }
   ],
   "source": [
    "adataTH1.mod['rna']"
   ]
  },
  {
   "cell_type": "code",
   "execution_count": null,
   "id": "9537be25",
   "metadata": {},
   "outputs": [],
   "source": []
  },
  {
   "cell_type": "code",
   "execution_count": 5,
   "id": "e206ca72",
   "metadata": {},
   "outputs": [],
   "source": [
    "# print(adataTH1.mod['rna'].X[0,:])"
   ]
  },
  {
   "cell_type": "code",
   "execution_count": 9,
   "id": "557acbb5",
   "metadata": {},
   "outputs": [
    {
     "data": {
      "text/plain": [
       "AnnData object with n_obs × n_vars = 5064 × 36601\n",
       "    var: 'gene_ids', 'feature_types', 'genome'"
      ]
     },
     "execution_count": 9,
     "metadata": {},
     "output_type": "execute_result"
    }
   ],
   "source": [
    "adataTH1.mod['rna']"
   ]
  },
  {
   "cell_type": "code",
   "execution_count": 6,
   "id": "f3349ae9",
   "metadata": {},
   "outputs": [
    {
     "data": {
      "text/plain": [
       "numpy.ndarray"
      ]
     },
     "execution_count": 6,
     "metadata": {},
     "output_type": "execute_result"
    }
   ],
   "source": [
    "sparse_array = adataTH1.mod['rna'].X.toarray()\n",
    "type(sparse_array)"
   ]
  },
  {
   "cell_type": "code",
   "execution_count": 10,
   "id": "eb3a83e6",
   "metadata": {},
   "outputs": [
    {
     "data": {
      "text/plain": [
       "(5064, 36601)"
      ]
     },
     "execution_count": 10,
     "metadata": {},
     "output_type": "execute_result"
    }
   ],
   "source": [
    "rows, cols = len(sparse_array), len(sparse_array[0])\n",
    "rows, cols"
   ]
  },
  {
   "cell_type": "code",
   "execution_count": 11,
   "id": "2eb90a8d",
   "metadata": {},
   "outputs": [],
   "source": [
    "sparse_nonzero = np.nonzero(sparse_array)"
   ]
  },
  {
   "cell_type": "code",
   "execution_count": 78,
   "id": "62e5c877",
   "metadata": {},
   "outputs": [
    {
     "data": {
      "text/plain": [
       "(array([   0,    0,    0, ..., 5063, 5063, 5063], dtype=int64),\n",
       " array([   62,    70,    77, ..., 36569, 36571, 36580], dtype=int64))"
      ]
     },
     "execution_count": 78,
     "metadata": {},
     "output_type": "execute_result"
    }
   ],
   "source": [
    "sparse_nonzero"
   ]
  },
  {
   "cell_type": "code",
   "execution_count": 76,
   "id": "12601fdb",
   "metadata": {},
   "outputs": [
    {
     "data": {
      "text/plain": [
       "14181674"
      ]
     },
     "execution_count": 76,
     "metadata": {},
     "output_type": "execute_result"
    }
   ],
   "source": [
    "len(sparse_nonzero[0])"
   ]
  },
  {
   "cell_type": "code",
   "execution_count": 32,
   "id": "e93f8742",
   "metadata": {},
   "outputs": [],
   "source": [
    "# tsv_file = 'test_output.tsv'\n",
    "# columns = ['row', 'column', 'value']\n",
    "\n",
    "# with open(\"test_output.csv\", \"w\", newline='') as file:\n",
    "#     writer = csv.writer(file, delimiter='\\t')\n",
    "#     writer.writerow(columns)\n",
    "\n",
    "#     for i, row in enumerate(b):\n",
    "#         for j, value in enumerate(row):\n",
    "#             if value != 0:\n",
    "#                 writer.writerow([i, j, value])"
   ]
  },
  {
   "cell_type": "code",
   "execution_count": 77,
   "id": "0780cbbc",
   "metadata": {},
   "outputs": [],
   "source": [
    "nonzero_count = np.count_nonzero(sparse_array)"
   ]
  },
  {
   "cell_type": "code",
   "execution_count": 96,
   "id": "996cee6b",
   "metadata": {},
   "outputs": [],
   "source": [
    "mtx_file = './data/TH1_test/matrix.mtx'\n",
    "with open(mtx_file, 'w') as file:\n",
    "    file.write(\"%%MatrixMarket matrix coordinate real general\\n\")\n",
    "\n",
    "    # Write dimensions\n",
    "    rows, cols = len(sparse_array), len(sparse_array[0])\n",
    "    file.write(f\"{cols} {rows} {np.count_nonzero(sparse_array)}\\n\")\n",
    "\n",
    "    for i in range(nonzero_count):\n",
    "        col = sparse_nonzero[1][i]\n",
    "        row = sparse_nonzero[0][i]\n",
    "        \n",
    "        file.write(f\"{col+1} {row+1} {sparse_array[row][col]}\\n\")"
   ]
  },
  {
   "cell_type": "code",
   "execution_count": 39,
   "id": "ed8106aa",
   "metadata": {},
   "outputs": [],
   "source": [
    "adataTH1.obs.to_csv('./data/TH1_test/barcodes.tsv', sep=\"\\t\", header=False)"
   ]
  },
  {
   "cell_type": "code",
   "execution_count": 95,
   "id": "be3f61f3",
   "metadata": {},
   "outputs": [
    {
     "data": {
      "text/html": [
       "<div>\n",
       "<style scoped>\n",
       "    .dataframe tbody tr th:only-of-type {\n",
       "        vertical-align: middle;\n",
       "    }\n",
       "\n",
       "    .dataframe tbody tr th {\n",
       "        vertical-align: top;\n",
       "    }\n",
       "\n",
       "    .dataframe thead th {\n",
       "        text-align: right;\n",
       "    }\n",
       "</style>\n",
       "<table border=\"1\" class=\"dataframe\">\n",
       "  <thead>\n",
       "    <tr style=\"text-align: right;\">\n",
       "      <th></th>\n",
       "    </tr>\n",
       "  </thead>\n",
       "  <tbody>\n",
       "    <tr>\n",
       "      <th>AAACCCACAGCTTTCC-1_TH1</th>\n",
       "    </tr>\n",
       "    <tr>\n",
       "      <th>AAACCCAGTAAGATTG-1_TH1</th>\n",
       "    </tr>\n",
       "    <tr>\n",
       "      <th>AAACCCATCTGTCCCA-1_TH1</th>\n",
       "    </tr>\n",
       "    <tr>\n",
       "      <th>AAACGAAAGACCTCCG-1_TH1</th>\n",
       "    </tr>\n",
       "    <tr>\n",
       "      <th>AAACGAAAGGACAACC-1_TH1</th>\n",
       "    </tr>\n",
       "    <tr>\n",
       "      <th>...</th>\n",
       "    </tr>\n",
       "    <tr>\n",
       "      <th>TTTGTTGAGGGTACAC-1_TH1</th>\n",
       "    </tr>\n",
       "    <tr>\n",
       "      <th>TTTGTTGCAACCGACC-1_TH1</th>\n",
       "    </tr>\n",
       "    <tr>\n",
       "      <th>TTTGTTGCATCCTATT-1_TH1</th>\n",
       "    </tr>\n",
       "    <tr>\n",
       "      <th>TTTGTTGCATCGGAGA-1_TH1</th>\n",
       "    </tr>\n",
       "    <tr>\n",
       "      <th>TTTGTTGTCATATGGC-1_TH1</th>\n",
       "    </tr>\n",
       "  </tbody>\n",
       "</table>\n",
       "<p>5064 rows × 0 columns</p>\n",
       "</div>"
      ],
      "text/plain": [
       "Empty DataFrame\n",
       "Columns: []\n",
       "Index: [AAACCCACAGCTTTCC-1_TH1, AAACCCAGTAAGATTG-1_TH1, AAACCCATCTGTCCCA-1_TH1, AAACGAAAGACCTCCG-1_TH1, AAACGAAAGGACAACC-1_TH1, AAACGAACAAACAGGC-1_TH1, AAACGAAGTTAAGACA-1_TH1, AAACGAATCCTGGCTT-1_TH1, AAACGCTAGCCTGTCG-1_TH1, AAACGCTCACTCTAGA-1_TH1, AAACGCTCAGTCGGTC-1_TH1, AAACGCTGTCCCAAAT-1_TH1, AAACGCTTCAACCTTT-1_TH1, AAACGCTTCTACTGCC-1_TH1, AAAGAACAGCATGTTC-1_TH1, AAAGAACGTTACGCCG-1_TH1, AAAGGATAGGTCGTCC-1_TH1, AAAGGATAGGTGTGAC-1_TH1, AAAGGATCAATCGCGC-1_TH1, AAAGGATGTTCCAAAC-1_TH1, AAAGGGCAGCGTGAGT-1_TH1, AAAGGGCAGTGCTAGG-1_TH1, AAAGGGCCAGATACTC-1_TH1, AAAGGGCGTTGAATCC-1_TH1, AAAGGGCTCGGAGTGA-1_TH1, AAAGGTAAGCGCACAA-1_TH1, AAAGGTACACCCAAGC-1_TH1, AAAGGTACAGCTGTAT-1_TH1, AAAGGTACATCGGAGA-1_TH1, AAAGGTAGTGACACGA-1_TH1, AAAGTCCAGCAAGTGC-1_TH1, AAAGTCCCATGGAATA-1_TH1, AAAGTCCGTATGAGAT-1_TH1, AAAGTCCGTGAATTAG-1_TH1, AAAGTGAAGAAGGATG-1_TH1, AAAGTGACAATCCTAG-1_TH1, AAAGTGAGTAAGGCCA-1_TH1, AAAGTGAGTACTAACC-1_TH1, AAAGTGAGTAGATGTA-1_TH1, AAAGTGAGTATTAAGG-1_TH1, AAAGTGATCTTAGCTT-1_TH1, AAATGGACAATTGCGT-1_TH1, AAATGGAGTCACTCGG-1_TH1, AAATGGAGTCCTTTGC-1_TH1, AAATGGAGTGGGTCAA-1_TH1, AACAAAGCAATACCTG-1_TH1, AACAAAGCACAATGAA-1_TH1, AACAAAGCATCCGGTG-1_TH1, AACAAAGCATCGGATT-1_TH1, AACAAAGGTAGAGGAA-1_TH1, AACAAAGTCAAGCCAT-1_TH1, AACAAAGTCAGATGCT-1_TH1, AACAAAGTCAGCTTCC-1_TH1, AACAACCAGGTCCCGT-1_TH1, AACAACCCAAGGCGTA-1_TH1, AACAACCCAATGTGGG-1_TH1, AACAACCCAGGCACAA-1_TH1, AACAACCGTAATGCGG-1_TH1, AACAACCTCAAATAGG-1_TH1, AACAAGAAGCATGCGA-1_TH1, AACAAGACAATGTGGG-1_TH1, AACAAGACACAAACGG-1_TH1, AACAAGACATATTCGG-1_TH1, AACAAGAGTTCGGTTA-1_TH1, AACAAGATCAAGGTGG-1_TH1, AACAAGATCATTGCTT-1_TH1, AACACACAGCCTTTGA-1_TH1, AACACACCATTGCCGG-1_TH1, AACACACGTCACAGTT-1_TH1, AACACACGTGAAGCGT-1_TH1, AACACACTCAATCTCT-1_TH1, AACAGGGAGTGGATTA-1_TH1, AACAGGGAGTTCTACG-1_TH1, AACAGGGCACGACGAA-1_TH1, AACAGGGCAGCCATTA-1_TH1, AACAGGGGTGCGCTCA-1_TH1, AACAGGGGTTATGTGC-1_TH1, AACAGGGTCACGAGGA-1_TH1, AACAGGGTCTCTTCAA-1_TH1, AACAGGGTCTCTTGCG-1_TH1, AACAGGGTCTGGTTGA-1_TH1, AACCAACCAAATTGCC-1_TH1, AACCAACCATCTCATT-1_TH1, AACCAACCATGACTAC-1_TH1, AACCAACGTCCTACAA-1_TH1, AACCAACGTGGATACG-1_TH1, AACCAACGTGTTCATG-1_TH1, AACCAACTCAGCTGAT-1_TH1, AACCAACTCGGACGTC-1_TH1, AACCAACTCTCGAACA-1_TH1, AACCAACTCTGTCGCT-1_TH1, AACCACAAGAGAACCC-1_TH1, AACCACACAACACAGG-1_TH1, AACCACACATCGTGGC-1_TH1, AACCACACATTCACAG-1_TH1, AACCACAGTTGAATCC-1_TH1, AACCACATCCAGCAAT-1_TH1, AACCACATCGACACTA-1_TH1, AACCATGAGCGCCTTG-1_TH1, AACCATGCAGACATCT-1_TH1, ...]\n",
       "\n",
       "[5064 rows x 0 columns]"
      ]
     },
     "execution_count": 95,
     "metadata": {},
     "output_type": "execute_result"
    }
   ],
   "source": [
    "adataTH1.obs"
   ]
  },
  {
   "cell_type": "code",
   "execution_count": 112,
   "id": "8d7c6bcf",
   "metadata": {},
   "outputs": [],
   "source": [
    "# adataTH1.mod['rna'].var.to_csv('./data/TH1_test/features.tsv', sep=\"\\t\", header=False)"
   ]
  },
  {
   "cell_type": "code",
   "execution_count": 7,
   "id": "9eec63b2",
   "metadata": {},
   "outputs": [
    {
     "data": {
      "text/plain": [
       "pandas.core.frame.DataFrame"
      ]
     },
     "execution_count": 7,
     "metadata": {},
     "output_type": "execute_result"
    }
   ],
   "source": [
    "type(adataTH1.mod['rna'].var)"
   ]
  },
  {
   "cell_type": "code",
   "execution_count": 25,
   "id": "60dd8ab0",
   "metadata": {},
   "outputs": [
    {
     "data": {
      "text/html": [
       "<div>\n",
       "<style scoped>\n",
       "    .dataframe tbody tr th:only-of-type {\n",
       "        vertical-align: middle;\n",
       "    }\n",
       "\n",
       "    .dataframe tbody tr th {\n",
       "        vertical-align: top;\n",
       "    }\n",
       "\n",
       "    .dataframe thead th {\n",
       "        text-align: right;\n",
       "    }\n",
       "</style>\n",
       "<table border=\"1\" class=\"dataframe\">\n",
       "  <thead>\n",
       "    <tr style=\"text-align: right;\">\n",
       "      <th></th>\n",
       "      <th>gene_ids</th>\n",
       "      <th>feature_types</th>\n",
       "      <th>genome</th>\n",
       "    </tr>\n",
       "  </thead>\n",
       "  <tbody>\n",
       "    <tr>\n",
       "      <th>MIR1302-2HG</th>\n",
       "      <td>ENSG00000243485</td>\n",
       "      <td>Gene Expression</td>\n",
       "      <td>GRCh38</td>\n",
       "    </tr>\n",
       "    <tr>\n",
       "      <th>FAM138A</th>\n",
       "      <td>ENSG00000237613</td>\n",
       "      <td>Gene Expression</td>\n",
       "      <td>GRCh38</td>\n",
       "    </tr>\n",
       "    <tr>\n",
       "      <th>OR4F5</th>\n",
       "      <td>ENSG00000186092</td>\n",
       "      <td>Gene Expression</td>\n",
       "      <td>GRCh38</td>\n",
       "    </tr>\n",
       "    <tr>\n",
       "      <th>AL627309.1</th>\n",
       "      <td>ENSG00000238009</td>\n",
       "      <td>Gene Expression</td>\n",
       "      <td>GRCh38</td>\n",
       "    </tr>\n",
       "    <tr>\n",
       "      <th>AL627309.3</th>\n",
       "      <td>ENSG00000239945</td>\n",
       "      <td>Gene Expression</td>\n",
       "      <td>GRCh38</td>\n",
       "    </tr>\n",
       "    <tr>\n",
       "      <th>...</th>\n",
       "      <td>...</td>\n",
       "      <td>...</td>\n",
       "      <td>...</td>\n",
       "    </tr>\n",
       "    <tr>\n",
       "      <th>AC141272.1</th>\n",
       "      <td>ENSG00000277836</td>\n",
       "      <td>Gene Expression</td>\n",
       "      <td>GRCh38</td>\n",
       "    </tr>\n",
       "    <tr>\n",
       "      <th>AC023491.2</th>\n",
       "      <td>ENSG00000278633</td>\n",
       "      <td>Gene Expression</td>\n",
       "      <td>GRCh38</td>\n",
       "    </tr>\n",
       "    <tr>\n",
       "      <th>AC007325.1</th>\n",
       "      <td>ENSG00000276017</td>\n",
       "      <td>Gene Expression</td>\n",
       "      <td>GRCh38</td>\n",
       "    </tr>\n",
       "    <tr>\n",
       "      <th>AC007325.4</th>\n",
       "      <td>ENSG00000278817</td>\n",
       "      <td>Gene Expression</td>\n",
       "      <td>GRCh38</td>\n",
       "    </tr>\n",
       "    <tr>\n",
       "      <th>AC007325.2</th>\n",
       "      <td>ENSG00000277196</td>\n",
       "      <td>Gene Expression</td>\n",
       "      <td>GRCh38</td>\n",
       "    </tr>\n",
       "  </tbody>\n",
       "</table>\n",
       "<p>36601 rows × 3 columns</p>\n",
       "</div>"
      ],
      "text/plain": [
       "                    gene_ids    feature_types  genome\n",
       "MIR1302-2HG  ENSG00000243485  Gene Expression  GRCh38\n",
       "FAM138A      ENSG00000237613  Gene Expression  GRCh38\n",
       "OR4F5        ENSG00000186092  Gene Expression  GRCh38\n",
       "AL627309.1   ENSG00000238009  Gene Expression  GRCh38\n",
       "AL627309.3   ENSG00000239945  Gene Expression  GRCh38\n",
       "...                      ...              ...     ...\n",
       "AC141272.1   ENSG00000277836  Gene Expression  GRCh38\n",
       "AC023491.2   ENSG00000278633  Gene Expression  GRCh38\n",
       "AC007325.1   ENSG00000276017  Gene Expression  GRCh38\n",
       "AC007325.4   ENSG00000278817  Gene Expression  GRCh38\n",
       "AC007325.2   ENSG00000277196  Gene Expression  GRCh38\n",
       "\n",
       "[36601 rows x 3 columns]"
      ]
     },
     "execution_count": 25,
     "metadata": {},
     "output_type": "execute_result"
    }
   ],
   "source": [
    "adataTH1.mod['rna'].var"
   ]
  },
  {
   "cell_type": "code",
   "execution_count": 22,
   "id": "22b17207",
   "metadata": {},
   "outputs": [
    {
     "data": {
      "text/html": [
       "<div>\n",
       "<style scoped>\n",
       "    .dataframe tbody tr th:only-of-type {\n",
       "        vertical-align: middle;\n",
       "    }\n",
       "\n",
       "    .dataframe tbody tr th {\n",
       "        vertical-align: top;\n",
       "    }\n",
       "\n",
       "    .dataframe thead th {\n",
       "        text-align: right;\n",
       "    }\n",
       "</style>\n",
       "<table border=\"1\" class=\"dataframe\">\n",
       "  <thead>\n",
       "    <tr style=\"text-align: right;\">\n",
       "      <th></th>\n",
       "      <th>gene_ids</th>\n",
       "      <th>index</th>\n",
       "      <th>feature_types</th>\n",
       "    </tr>\n",
       "  </thead>\n",
       "  <tbody>\n",
       "    <tr>\n",
       "      <th>0</th>\n",
       "      <td>ENSG00000243485</td>\n",
       "      <td>MIR1302-2HG</td>\n",
       "      <td>Gene Expression</td>\n",
       "    </tr>\n",
       "    <tr>\n",
       "      <th>1</th>\n",
       "      <td>ENSG00000237613</td>\n",
       "      <td>FAM138A</td>\n",
       "      <td>Gene Expression</td>\n",
       "    </tr>\n",
       "    <tr>\n",
       "      <th>2</th>\n",
       "      <td>ENSG00000186092</td>\n",
       "      <td>OR4F5</td>\n",
       "      <td>Gene Expression</td>\n",
       "    </tr>\n",
       "    <tr>\n",
       "      <th>3</th>\n",
       "      <td>ENSG00000238009</td>\n",
       "      <td>AL627309.1</td>\n",
       "      <td>Gene Expression</td>\n",
       "    </tr>\n",
       "    <tr>\n",
       "      <th>4</th>\n",
       "      <td>ENSG00000239945</td>\n",
       "      <td>AL627309.3</td>\n",
       "      <td>Gene Expression</td>\n",
       "    </tr>\n",
       "    <tr>\n",
       "      <th>...</th>\n",
       "      <td>...</td>\n",
       "      <td>...</td>\n",
       "      <td>...</td>\n",
       "    </tr>\n",
       "    <tr>\n",
       "      <th>36596</th>\n",
       "      <td>ENSG00000277836</td>\n",
       "      <td>AC141272.1</td>\n",
       "      <td>Gene Expression</td>\n",
       "    </tr>\n",
       "    <tr>\n",
       "      <th>36597</th>\n",
       "      <td>ENSG00000278633</td>\n",
       "      <td>AC023491.2</td>\n",
       "      <td>Gene Expression</td>\n",
       "    </tr>\n",
       "    <tr>\n",
       "      <th>36598</th>\n",
       "      <td>ENSG00000276017</td>\n",
       "      <td>AC007325.1</td>\n",
       "      <td>Gene Expression</td>\n",
       "    </tr>\n",
       "    <tr>\n",
       "      <th>36599</th>\n",
       "      <td>ENSG00000278817</td>\n",
       "      <td>AC007325.4</td>\n",
       "      <td>Gene Expression</td>\n",
       "    </tr>\n",
       "    <tr>\n",
       "      <th>36600</th>\n",
       "      <td>ENSG00000277196</td>\n",
       "      <td>AC007325.2</td>\n",
       "      <td>Gene Expression</td>\n",
       "    </tr>\n",
       "  </tbody>\n",
       "</table>\n",
       "<p>36601 rows × 3 columns</p>\n",
       "</div>"
      ],
      "text/plain": [
       "              gene_ids        index    feature_types\n",
       "0      ENSG00000243485  MIR1302-2HG  Gene Expression\n",
       "1      ENSG00000237613      FAM138A  Gene Expression\n",
       "2      ENSG00000186092        OR4F5  Gene Expression\n",
       "3      ENSG00000238009   AL627309.1  Gene Expression\n",
       "4      ENSG00000239945   AL627309.3  Gene Expression\n",
       "...                ...          ...              ...\n",
       "36596  ENSG00000277836   AC141272.1  Gene Expression\n",
       "36597  ENSG00000278633   AC023491.2  Gene Expression\n",
       "36598  ENSG00000276017   AC007325.1  Gene Expression\n",
       "36599  ENSG00000278817   AC007325.4  Gene Expression\n",
       "36600  ENSG00000277196   AC007325.2  Gene Expression\n",
       "\n",
       "[36601 rows x 3 columns]"
      ]
     },
     "execution_count": 22,
     "metadata": {},
     "output_type": "execute_result"
    }
   ],
   "source": [
    "TH1_vars = adataTH1.mod['rna'].var.reset_index()[[\"gene_ids\", \"index\", \"feature_types\"]]\n",
    "TH1_vars"
   ]
  },
  {
   "cell_type": "code",
   "execution_count": 19,
   "id": "af4afc54",
   "metadata": {},
   "outputs": [
    {
     "data": {
      "text/html": [
       "<div>\n",
       "<style scoped>\n",
       "    .dataframe tbody tr th:only-of-type {\n",
       "        vertical-align: middle;\n",
       "    }\n",
       "\n",
       "    .dataframe tbody tr th {\n",
       "        vertical-align: top;\n",
       "    }\n",
       "\n",
       "    .dataframe thead th {\n",
       "        text-align: right;\n",
       "    }\n",
       "</style>\n",
       "<table border=\"1\" class=\"dataframe\">\n",
       "  <thead>\n",
       "    <tr style=\"text-align: right;\">\n",
       "      <th></th>\n",
       "      <th>gene_ids</th>\n",
       "      <th>feature_types</th>\n",
       "      <th>genome</th>\n",
       "    </tr>\n",
       "  </thead>\n",
       "  <tbody>\n",
       "    <tr>\n",
       "      <th>MIR1302-2HG</th>\n",
       "      <td>ENSG00000243485</td>\n",
       "      <td>Gene Expression</td>\n",
       "      <td>GRCh38</td>\n",
       "    </tr>\n",
       "    <tr>\n",
       "      <th>FAM138A</th>\n",
       "      <td>ENSG00000237613</td>\n",
       "      <td>Gene Expression</td>\n",
       "      <td>GRCh38</td>\n",
       "    </tr>\n",
       "    <tr>\n",
       "      <th>OR4F5</th>\n",
       "      <td>ENSG00000186092</td>\n",
       "      <td>Gene Expression</td>\n",
       "      <td>GRCh38</td>\n",
       "    </tr>\n",
       "    <tr>\n",
       "      <th>AL627309.1</th>\n",
       "      <td>ENSG00000238009</td>\n",
       "      <td>Gene Expression</td>\n",
       "      <td>GRCh38</td>\n",
       "    </tr>\n",
       "    <tr>\n",
       "      <th>AL627309.3</th>\n",
       "      <td>ENSG00000239945</td>\n",
       "      <td>Gene Expression</td>\n",
       "      <td>GRCh38</td>\n",
       "    </tr>\n",
       "    <tr>\n",
       "      <th>...</th>\n",
       "      <td>...</td>\n",
       "      <td>...</td>\n",
       "      <td>...</td>\n",
       "    </tr>\n",
       "    <tr>\n",
       "      <th>AC141272.1</th>\n",
       "      <td>ENSG00000277836</td>\n",
       "      <td>Gene Expression</td>\n",
       "      <td>GRCh38</td>\n",
       "    </tr>\n",
       "    <tr>\n",
       "      <th>AC023491.2</th>\n",
       "      <td>ENSG00000278633</td>\n",
       "      <td>Gene Expression</td>\n",
       "      <td>GRCh38</td>\n",
       "    </tr>\n",
       "    <tr>\n",
       "      <th>AC007325.1</th>\n",
       "      <td>ENSG00000276017</td>\n",
       "      <td>Gene Expression</td>\n",
       "      <td>GRCh38</td>\n",
       "    </tr>\n",
       "    <tr>\n",
       "      <th>AC007325.4</th>\n",
       "      <td>ENSG00000278817</td>\n",
       "      <td>Gene Expression</td>\n",
       "      <td>GRCh38</td>\n",
       "    </tr>\n",
       "    <tr>\n",
       "      <th>AC007325.2</th>\n",
       "      <td>ENSG00000277196</td>\n",
       "      <td>Gene Expression</td>\n",
       "      <td>GRCh38</td>\n",
       "    </tr>\n",
       "  </tbody>\n",
       "</table>\n",
       "<p>36601 rows × 3 columns</p>\n",
       "</div>"
      ],
      "text/plain": [
       "                    gene_ids    feature_types  genome\n",
       "MIR1302-2HG  ENSG00000243485  Gene Expression  GRCh38\n",
       "FAM138A      ENSG00000237613  Gene Expression  GRCh38\n",
       "OR4F5        ENSG00000186092  Gene Expression  GRCh38\n",
       "AL627309.1   ENSG00000238009  Gene Expression  GRCh38\n",
       "AL627309.3   ENSG00000239945  Gene Expression  GRCh38\n",
       "...                      ...              ...     ...\n",
       "AC141272.1   ENSG00000277836  Gene Expression  GRCh38\n",
       "AC023491.2   ENSG00000278633  Gene Expression  GRCh38\n",
       "AC007325.1   ENSG00000276017  Gene Expression  GRCh38\n",
       "AC007325.4   ENSG00000278817  Gene Expression  GRCh38\n",
       "AC007325.2   ENSG00000277196  Gene Expression  GRCh38\n",
       "\n",
       "[36601 rows x 3 columns]"
      ]
     },
     "execution_count": 19,
     "metadata": {},
     "output_type": "execute_result"
    }
   ],
   "source": [
    "adataTH1.mod['rna'].var"
   ]
  },
  {
   "cell_type": "code",
   "execution_count": 24,
   "id": "72f34515",
   "metadata": {},
   "outputs": [],
   "source": [
    "TH1_vars.to_csv('./data/TH1_test/features.tsv', sep=\"\\t\", header=False, index=False)"
   ]
  },
  {
   "cell_type": "code",
   "execution_count": 107,
   "id": "f6b31311",
   "metadata": {},
   "outputs": [
    {
     "data": {
      "text/html": [
       "<div>\n",
       "<style scoped>\n",
       "    .dataframe tbody tr th:only-of-type {\n",
       "        vertical-align: middle;\n",
       "    }\n",
       "\n",
       "    .dataframe tbody tr th {\n",
       "        vertical-align: top;\n",
       "    }\n",
       "\n",
       "    .dataframe thead th {\n",
       "        text-align: right;\n",
       "    }\n",
       "</style>\n",
       "<table border=\"1\" class=\"dataframe\">\n",
       "  <thead>\n",
       "    <tr style=\"text-align: right;\">\n",
       "      <th></th>\n",
       "      <th>gene_ids</th>\n",
       "      <th>feature_types</th>\n",
       "      <th>genome</th>\n",
       "    </tr>\n",
       "  </thead>\n",
       "  <tbody>\n",
       "    <tr>\n",
       "      <th>MIR1302-2HG</th>\n",
       "      <td>ENSG00000243485</td>\n",
       "      <td>Gene Expression</td>\n",
       "      <td>GRCh38</td>\n",
       "    </tr>\n",
       "    <tr>\n",
       "      <th>FAM138A</th>\n",
       "      <td>ENSG00000237613</td>\n",
       "      <td>Gene Expression</td>\n",
       "      <td>GRCh38</td>\n",
       "    </tr>\n",
       "    <tr>\n",
       "      <th>OR4F5</th>\n",
       "      <td>ENSG00000186092</td>\n",
       "      <td>Gene Expression</td>\n",
       "      <td>GRCh38</td>\n",
       "    </tr>\n",
       "    <tr>\n",
       "      <th>AL627309.1</th>\n",
       "      <td>ENSG00000238009</td>\n",
       "      <td>Gene Expression</td>\n",
       "      <td>GRCh38</td>\n",
       "    </tr>\n",
       "    <tr>\n",
       "      <th>AL627309.3</th>\n",
       "      <td>ENSG00000239945</td>\n",
       "      <td>Gene Expression</td>\n",
       "      <td>GRCh38</td>\n",
       "    </tr>\n",
       "    <tr>\n",
       "      <th>...</th>\n",
       "      <td>...</td>\n",
       "      <td>...</td>\n",
       "      <td>...</td>\n",
       "    </tr>\n",
       "    <tr>\n",
       "      <th>AC141272.1</th>\n",
       "      <td>ENSG00000277836</td>\n",
       "      <td>Gene Expression</td>\n",
       "      <td>GRCh38</td>\n",
       "    </tr>\n",
       "    <tr>\n",
       "      <th>AC023491.2</th>\n",
       "      <td>ENSG00000278633</td>\n",
       "      <td>Gene Expression</td>\n",
       "      <td>GRCh38</td>\n",
       "    </tr>\n",
       "    <tr>\n",
       "      <th>AC007325.1</th>\n",
       "      <td>ENSG00000276017</td>\n",
       "      <td>Gene Expression</td>\n",
       "      <td>GRCh38</td>\n",
       "    </tr>\n",
       "    <tr>\n",
       "      <th>AC007325.4</th>\n",
       "      <td>ENSG00000278817</td>\n",
       "      <td>Gene Expression</td>\n",
       "      <td>GRCh38</td>\n",
       "    </tr>\n",
       "    <tr>\n",
       "      <th>AC007325.2</th>\n",
       "      <td>ENSG00000277196</td>\n",
       "      <td>Gene Expression</td>\n",
       "      <td>GRCh38</td>\n",
       "    </tr>\n",
       "  </tbody>\n",
       "</table>\n",
       "<p>36601 rows × 3 columns</p>\n",
       "</div>"
      ],
      "text/plain": [
       "                    gene_ids    feature_types  genome\n",
       "MIR1302-2HG  ENSG00000243485  Gene Expression  GRCh38\n",
       "FAM138A      ENSG00000237613  Gene Expression  GRCh38\n",
       "OR4F5        ENSG00000186092  Gene Expression  GRCh38\n",
       "AL627309.1   ENSG00000238009  Gene Expression  GRCh38\n",
       "AL627309.3   ENSG00000239945  Gene Expression  GRCh38\n",
       "...                      ...              ...     ...\n",
       "AC141272.1   ENSG00000277836  Gene Expression  GRCh38\n",
       "AC023491.2   ENSG00000278633  Gene Expression  GRCh38\n",
       "AC007325.1   ENSG00000276017  Gene Expression  GRCh38\n",
       "AC007325.4   ENSG00000278817  Gene Expression  GRCh38\n",
       "AC007325.2   ENSG00000277196  Gene Expression  GRCh38\n",
       "\n",
       "[36601 rows x 3 columns]"
      ]
     },
     "execution_count": 107,
     "metadata": {},
     "output_type": "execute_result"
    }
   ],
   "source": [
    "adataTH1.var[adataTH1.var['feature_types'] == \"Gene Expression\"]"
   ]
  },
  {
   "cell_type": "code",
   "execution_count": 108,
   "id": "99415adb",
   "metadata": {},
   "outputs": [
    {
     "data": {
      "text/html": [
       "<div>\n",
       "<style scoped>\n",
       "    .dataframe tbody tr th:only-of-type {\n",
       "        vertical-align: middle;\n",
       "    }\n",
       "\n",
       "    .dataframe tbody tr th {\n",
       "        vertical-align: top;\n",
       "    }\n",
       "\n",
       "    .dataframe thead th {\n",
       "        text-align: right;\n",
       "    }\n",
       "</style>\n",
       "<table border=\"1\" class=\"dataframe\">\n",
       "  <thead>\n",
       "    <tr style=\"text-align: right;\">\n",
       "      <th></th>\n",
       "      <th>gene_ids</th>\n",
       "      <th>feature_types</th>\n",
       "      <th>genome</th>\n",
       "    </tr>\n",
       "  </thead>\n",
       "  <tbody>\n",
       "    <tr>\n",
       "      <th>ADT.anti.hu.CD86</th>\n",
       "      <td>ADT.anti.hu.CD86</td>\n",
       "      <td>Antibody Capture</td>\n",
       "      <td></td>\n",
       "    </tr>\n",
       "    <tr>\n",
       "      <th>ADT.anti.hu.CD274..B7.H1.PD.L1.</th>\n",
       "      <td>ADT.anti.hu.CD274..B7.H1.PD.L1.</td>\n",
       "      <td>Antibody Capture</td>\n",
       "      <td></td>\n",
       "    </tr>\n",
       "    <tr>\n",
       "      <th>ADT.anti.hu.CD270..HVEM.TR2.</th>\n",
       "      <td>ADT.anti.hu.CD270..HVEM.TR2.</td>\n",
       "      <td>Antibody Capture</td>\n",
       "      <td></td>\n",
       "    </tr>\n",
       "    <tr>\n",
       "      <th>ADT.anti.hu.CD155..PVR.</th>\n",
       "      <td>ADT.anti.hu.CD155..PVR.</td>\n",
       "      <td>Antibody Capture</td>\n",
       "      <td></td>\n",
       "    </tr>\n",
       "    <tr>\n",
       "      <th>ADT.anti.hu.CD112..Nectin.2.</th>\n",
       "      <td>ADT.anti.hu.CD112..Nectin.2.</td>\n",
       "      <td>Antibody Capture</td>\n",
       "      <td></td>\n",
       "    </tr>\n",
       "    <tr>\n",
       "      <th>...</th>\n",
       "      <td>...</td>\n",
       "      <td>...</td>\n",
       "      <td>...</td>\n",
       "    </tr>\n",
       "    <tr>\n",
       "      <th>SPK.anti.hu.CD184..CXCR4.</th>\n",
       "      <td>SPK.anti.hu.CD184..CXCR4.</td>\n",
       "      <td>Antibody Capture</td>\n",
       "      <td></td>\n",
       "    </tr>\n",
       "    <tr>\n",
       "      <th>SPK.anti.hu.Notch.1</th>\n",
       "      <td>SPK.anti.hu.Notch.1</td>\n",
       "      <td>Antibody Capture</td>\n",
       "      <td></td>\n",
       "    </tr>\n",
       "    <tr>\n",
       "      <th>SPK.anti.hu.CD135..Flt.3.Flk.2.</th>\n",
       "      <td>SPK.anti.hu.CD135..Flt.3.Flk.2.</td>\n",
       "      <td>Antibody Capture</td>\n",
       "      <td></td>\n",
       "    </tr>\n",
       "    <tr>\n",
       "      <th>SPK.anti.hu.CD14</th>\n",
       "      <td>SPK.anti.hu.CD14</td>\n",
       "      <td>Antibody Capture</td>\n",
       "      <td></td>\n",
       "    </tr>\n",
       "    <tr>\n",
       "      <th>SPK.anti.hu.CD235ab</th>\n",
       "      <td>SPK.anti.hu.CD235ab</td>\n",
       "      <td>Antibody Capture</td>\n",
       "      <td></td>\n",
       "    </tr>\n",
       "  </tbody>\n",
       "</table>\n",
       "<p>154 rows × 3 columns</p>\n",
       "</div>"
      ],
      "text/plain": [
       "                                                        gene_ids  \\\n",
       "ADT.anti.hu.CD86                                ADT.anti.hu.CD86   \n",
       "ADT.anti.hu.CD274..B7.H1.PD.L1.  ADT.anti.hu.CD274..B7.H1.PD.L1.   \n",
       "ADT.anti.hu.CD270..HVEM.TR2.        ADT.anti.hu.CD270..HVEM.TR2.   \n",
       "ADT.anti.hu.CD155..PVR.                  ADT.anti.hu.CD155..PVR.   \n",
       "ADT.anti.hu.CD112..Nectin.2.        ADT.anti.hu.CD112..Nectin.2.   \n",
       "...                                                          ...   \n",
       "SPK.anti.hu.CD184..CXCR4.              SPK.anti.hu.CD184..CXCR4.   \n",
       "SPK.anti.hu.Notch.1                          SPK.anti.hu.Notch.1   \n",
       "SPK.anti.hu.CD135..Flt.3.Flk.2.  SPK.anti.hu.CD135..Flt.3.Flk.2.   \n",
       "SPK.anti.hu.CD14                                SPK.anti.hu.CD14   \n",
       "SPK.anti.hu.CD235ab                          SPK.anti.hu.CD235ab   \n",
       "\n",
       "                                    feature_types genome  \n",
       "ADT.anti.hu.CD86                 Antibody Capture         \n",
       "ADT.anti.hu.CD274..B7.H1.PD.L1.  Antibody Capture         \n",
       "ADT.anti.hu.CD270..HVEM.TR2.     Antibody Capture         \n",
       "ADT.anti.hu.CD155..PVR.          Antibody Capture         \n",
       "ADT.anti.hu.CD112..Nectin.2.     Antibody Capture         \n",
       "...                                           ...    ...  \n",
       "SPK.anti.hu.CD184..CXCR4.        Antibody Capture         \n",
       "SPK.anti.hu.Notch.1              Antibody Capture         \n",
       "SPK.anti.hu.CD135..Flt.3.Flk.2.  Antibody Capture         \n",
       "SPK.anti.hu.CD14                 Antibody Capture         \n",
       "SPK.anti.hu.CD235ab              Antibody Capture         \n",
       "\n",
       "[154 rows x 3 columns]"
      ]
     },
     "execution_count": 108,
     "metadata": {},
     "output_type": "execute_result"
    }
   ],
   "source": [
    "adataTH1.var[adataTH1.var['feature_types'] == \"Antibody Capture\"]"
   ]
  },
  {
   "cell_type": "code",
   "execution_count": 104,
   "id": "a9e33e46",
   "metadata": {
    "scrolled": false
   },
   "outputs": [
    {
     "data": {
      "text/html": [
       "<div>\n",
       "<style scoped>\n",
       "    .dataframe tbody tr th:only-of-type {\n",
       "        vertical-align: middle;\n",
       "    }\n",
       "\n",
       "    .dataframe tbody tr th {\n",
       "        vertical-align: top;\n",
       "    }\n",
       "\n",
       "    .dataframe thead th {\n",
       "        text-align: right;\n",
       "    }\n",
       "</style>\n",
       "<table border=\"1\" class=\"dataframe\">\n",
       "  <thead>\n",
       "    <tr style=\"text-align: right;\">\n",
       "      <th></th>\n",
       "      <th>gene_ids</th>\n",
       "      <th>feature_types</th>\n",
       "      <th>genome</th>\n",
       "    </tr>\n",
       "  </thead>\n",
       "  <tbody>\n",
       "    <tr>\n",
       "      <th>MIR1302-2HG</th>\n",
       "      <td>ENSG00000243485</td>\n",
       "      <td>Gene Expression</td>\n",
       "      <td>GRCh38</td>\n",
       "    </tr>\n",
       "    <tr>\n",
       "      <th>FAM138A</th>\n",
       "      <td>ENSG00000237613</td>\n",
       "      <td>Gene Expression</td>\n",
       "      <td>GRCh38</td>\n",
       "    </tr>\n",
       "    <tr>\n",
       "      <th>OR4F5</th>\n",
       "      <td>ENSG00000186092</td>\n",
       "      <td>Gene Expression</td>\n",
       "      <td>GRCh38</td>\n",
       "    </tr>\n",
       "    <tr>\n",
       "      <th>AL627309.1</th>\n",
       "      <td>ENSG00000238009</td>\n",
       "      <td>Gene Expression</td>\n",
       "      <td>GRCh38</td>\n",
       "    </tr>\n",
       "    <tr>\n",
       "      <th>AL627309.3</th>\n",
       "      <td>ENSG00000239945</td>\n",
       "      <td>Gene Expression</td>\n",
       "      <td>GRCh38</td>\n",
       "    </tr>\n",
       "    <tr>\n",
       "      <th>...</th>\n",
       "      <td>...</td>\n",
       "      <td>...</td>\n",
       "      <td>...</td>\n",
       "    </tr>\n",
       "    <tr>\n",
       "      <th>AC141272.1</th>\n",
       "      <td>ENSG00000277836</td>\n",
       "      <td>Gene Expression</td>\n",
       "      <td>GRCh38</td>\n",
       "    </tr>\n",
       "    <tr>\n",
       "      <th>AC023491.2</th>\n",
       "      <td>ENSG00000278633</td>\n",
       "      <td>Gene Expression</td>\n",
       "      <td>GRCh38</td>\n",
       "    </tr>\n",
       "    <tr>\n",
       "      <th>AC007325.1</th>\n",
       "      <td>ENSG00000276017</td>\n",
       "      <td>Gene Expression</td>\n",
       "      <td>GRCh38</td>\n",
       "    </tr>\n",
       "    <tr>\n",
       "      <th>AC007325.4</th>\n",
       "      <td>ENSG00000278817</td>\n",
       "      <td>Gene Expression</td>\n",
       "      <td>GRCh38</td>\n",
       "    </tr>\n",
       "    <tr>\n",
       "      <th>AC007325.2</th>\n",
       "      <td>ENSG00000277196</td>\n",
       "      <td>Gene Expression</td>\n",
       "      <td>GRCh38</td>\n",
       "    </tr>\n",
       "  </tbody>\n",
       "</table>\n",
       "<p>36601 rows × 3 columns</p>\n",
       "</div>"
      ],
      "text/plain": [
       "                    gene_ids    feature_types  genome\n",
       "MIR1302-2HG  ENSG00000243485  Gene Expression  GRCh38\n",
       "FAM138A      ENSG00000237613  Gene Expression  GRCh38\n",
       "OR4F5        ENSG00000186092  Gene Expression  GRCh38\n",
       "AL627309.1   ENSG00000238009  Gene Expression  GRCh38\n",
       "AL627309.3   ENSG00000239945  Gene Expression  GRCh38\n",
       "...                      ...              ...     ...\n",
       "AC141272.1   ENSG00000277836  Gene Expression  GRCh38\n",
       "AC023491.2   ENSG00000278633  Gene Expression  GRCh38\n",
       "AC007325.1   ENSG00000276017  Gene Expression  GRCh38\n",
       "AC007325.4   ENSG00000278817  Gene Expression  GRCh38\n",
       "AC007325.2   ENSG00000277196  Gene Expression  GRCh38\n",
       "\n",
       "[36601 rows x 3 columns]"
      ]
     },
     "execution_count": 104,
     "metadata": {},
     "output_type": "execute_result"
    }
   ],
   "source": [
    "adataTH1.var[adataTH1.var['genome'] != \"\"]"
   ]
  },
  {
   "cell_type": "code",
   "execution_count": 15,
   "id": "0661ce74",
   "metadata": {},
   "outputs": [
    {
     "data": {
      "text/plain": [
       "AnnData object with n_obs × n_vars = 5064 × 36601\n",
       "    var: 'gene_ids', 'feature_types', 'genome'"
      ]
     },
     "execution_count": 15,
     "metadata": {},
     "output_type": "execute_result"
    }
   ],
   "source": [
    "adataTH1.mod['rna']"
   ]
  },
  {
   "cell_type": "code",
   "execution_count": 115,
   "id": "b3ea5642",
   "metadata": {},
   "outputs": [],
   "source": [
    "### Annotation of all the samples ###\n",
    "\n",
    "adataTH1.obs.index = [name + '_TH1' for name in adataTH1.obs_names]\n",
    "adataTH2.obs.index = [name + '_TH2' for name in adataTH2.obs_names]\n",
    "\n",
    "# adataBM1.obs.index = [name + '_BM1' for name in adataBM1.obs_names]\n",
    "# adataBM3.obs.index = [name + '_BM3' for name in adataBM3.obs_names]\n",
    "\n",
    "adataBM4.obs.index = [name + '_BM4' for name in adataBM4.obs_names]\n",
    "\n",
    "# adataPB1.obs.index = [name + '_PB1' for name in adataPB1.obs_names]\n",
    "\n",
    "adataPB2.obs.index = [name + '_PB2' for name in adataPB2.obs_names]"
   ]
  },
  {
   "cell_type": "code",
   "execution_count": 121,
   "id": "54af8bf7",
   "metadata": {},
   "outputs": [
    {
     "data": {
      "text/html": [
       "<pre>MuData object with n_obs × n_vars = 22960 × 36755\n",
       "  var:\t&#x27;gene_ids&#x27;, &#x27;feature_types&#x27;, &#x27;genome&#x27;\n",
       "  2 modalities\n",
       "    rna:\t22960 x 36601\n",
       "      var:\t&#x27;gene_ids&#x27;, &#x27;feature_types&#x27;, &#x27;genome&#x27;\n",
       "    prot:\t22960 x 154\n",
       "      var:\t&#x27;gene_ids&#x27;, &#x27;feature_types&#x27;, &#x27;genome&#x27;</pre>"
      ],
      "text/plain": [
       "MuData object with n_obs × n_vars = 22960 × 36755\n",
       "  var:\t'gene_ids', 'feature_types', 'genome'\n",
       "  2 modalities\n",
       "    rna:\t22960 x 36601\n",
       "      var:\t'gene_ids', 'feature_types', 'genome'\n",
       "    prot:\t22960 x 154\n",
       "      var:\t'gene_ids', 'feature_types', 'genome'"
      ]
     },
     "execution_count": 121,
     "metadata": {},
     "output_type": "execute_result"
    }
   ],
   "source": [
    "### Merge all samples together ###\n",
    "\n",
    "import pandas as pd\n",
    "from scipy.sparse import vstack\n",
    "\n",
    "# Concatenate obs\n",
    "obs_merged = pd.concat([adataTH1.obs, adataTH2.obs, adataBM4.obs, adataPB2.obs])\n",
    "\n",
    "# Concatenate X for each modality\n",
    "rna_merged = vstack([adataTH1.mod['rna'].X, adataTH2.mod['rna'].X, adataBM4.mod['rna'].X, adataPB2.mod['rna'].X])\n",
    "prot_merged = vstack([adataTH1.mod['prot'].X, adataTH2.mod['prot'].X, adataBM4.mod['prot'].X, adataPB2.mod['prot'].X])\n",
    "\n",
    "# Get var for each modality\n",
    "rna_var = adataTH1.mod['rna'].var\n",
    "prot_var = adataTH1.mod['prot'].var\n",
    "\n",
    "# Create new MuData object\n",
    "adata_merged = md.MuData({'rna': ad.AnnData(X=rna_merged, var=rna_var), 'prot': ad.AnnData(X=prot_merged, var=prot_var)})\n",
    "adata_merged.obs = obs_merged\n",
    "\n",
    "adata=adata_merged\n",
    "#adata=adataBM4\n",
    "\n",
    "adata"
   ]
  },
  {
   "cell_type": "markdown",
   "id": "f6a0ca33",
   "metadata": {},
   "source": [
    "**two subset of the object to deal with the rna modality and the prot modality separately**"
   ]
  },
  {
   "cell_type": "code",
   "execution_count": 120,
   "id": "3a9576fe",
   "metadata": {},
   "outputs": [],
   "source": [
    "### Extracting RNA data only ###\n",
    "\n",
    "rna_adata = adata.mod['rna']\n",
    "prot_adata = adata.mod['prot']\n",
    "\n",
    "rna_adata.obs.index = adata.obs.index\n",
    "prot_adata.obs.index = adata.obs.index"
   ]
  },
  {
   "cell_type": "code",
   "execution_count": 113,
   "id": "48a13581",
   "metadata": {},
   "outputs": [],
   "source": [
    "# rna_adata"
   ]
  },
  {
   "cell_type": "code",
   "execution_count": 83,
   "id": "51a8f5ca",
   "metadata": {},
   "outputs": [],
   "source": [
    "## cleaning; not required by scevan"
   ]
  },
  {
   "cell_type": "code",
   "execution_count": 84,
   "id": "30f040e1",
   "metadata": {},
   "outputs": [
    {
     "data": {
      "image/png": "[encoded data removed]",
      "text/plain": [
       "<Figure size 500x550 with 1 Axes>"
      ]
     },
     "metadata": {},
     "output_type": "display_data"
    }
   ],
   "source": [
    "### Top ranking expressed gene ###\n",
    "sc.pl.highest_expr_genes(rna_adata, n_top=20, )"
   ]
  },
  {
   "cell_type": "code",
   "execution_count": 85,
   "id": "52376dd0",
   "metadata": {},
   "outputs": [
    {
     "name": "stderr",
     "output_type": "stream",
     "text": [
      "C:\\Python311\\Lib\\site-packages\\scanpy\\plotting\\_anndata.py:795: FutureWarning: \n",
      "\n",
      "The `scale` parameter has been renamed and will be removed in v0.15.0. Pass `density_norm='width'` for the same effect.\n",
      "  g = sns.catplot(\n"
     ]
    },
    {
     "ename": "AttributeError",
     "evalue": "'NoneType' object has no attribute 'get_legend_handles_labels'",
     "output_type": "error",
     "traceback": [
      "\u001b[1;31m---------------------------------------------------------------------------\u001b[0m",
      "\u001b[1;31mAttributeError\u001b[0m                            Traceback (most recent call last)",
      "Cell \u001b[1;32mIn[85], line 8\u001b[0m\n\u001b[0;32m      4\u001b[0m sc\u001b[38;5;241m.\u001b[39mpp\u001b[38;5;241m.\u001b[39mcalculate_qc_metrics(rna_adata, qc_vars\u001b[38;5;241m=\u001b[39m[\u001b[38;5;124m'\u001b[39m\u001b[38;5;124mmt\u001b[39m\u001b[38;5;124m'\u001b[39m], percent_top\u001b[38;5;241m=\u001b[39m\u001b[38;5;28;01mNone\u001b[39;00m, log1p\u001b[38;5;241m=\u001b[39m\u001b[38;5;28;01mFalse\u001b[39;00m, inplace\u001b[38;5;241m=\u001b[39m\u001b[38;5;28;01mTrue\u001b[39;00m)\n\u001b[0;32m      6\u001b[0m rna_adata\u001b[38;5;241m.\u001b[39mvar_names_make_unique()\n\u001b[1;32m----> 8\u001b[0m \u001b[43msc\u001b[49m\u001b[38;5;241;43m.\u001b[39;49m\u001b[43mpl\u001b[49m\u001b[38;5;241;43m.\u001b[39;49m\u001b[43mviolin\u001b[49m\u001b[43m(\u001b[49m\u001b[43mrna_adata\u001b[49m\u001b[43m,\u001b[49m\u001b[43m \u001b[49m\u001b[43m[\u001b[49m\u001b[38;5;124;43m'\u001b[39;49m\u001b[38;5;124;43mn_genes_by_counts\u001b[39;49m\u001b[38;5;124;43m'\u001b[39;49m\u001b[43m,\u001b[49m\u001b[43m \u001b[49m\u001b[38;5;124;43m'\u001b[39;49m\u001b[38;5;124;43mtotal_counts\u001b[39;49m\u001b[38;5;124;43m'\u001b[39;49m\u001b[43m,\u001b[49m\u001b[43m \u001b[49m\u001b[38;5;124;43m'\u001b[39;49m\u001b[38;5;124;43mpct_counts_mt\u001b[39;49m\u001b[38;5;124;43m'\u001b[39;49m\u001b[43m]\u001b[49m\u001b[43m,\u001b[49m\u001b[43m \u001b[49m\u001b[43mjitter\u001b[49m\u001b[38;5;241;43m=\u001b[39;49m\u001b[38;5;241;43m0.4\u001b[39;49m\u001b[43m,\u001b[49m\u001b[43m \u001b[49m\u001b[43mmulti_panel\u001b[49m\u001b[38;5;241;43m=\u001b[39;49m\u001b[38;5;28;43;01mTrue\u001b[39;49;00m\u001b[43m)\u001b[49m\n\u001b[0;32m     10\u001b[0m rna_adata\n",
      "File \u001b[1;32mC:\\Python311\\Lib\\site-packages\\scanpy\\plotting\\_anndata.py:795\u001b[0m, in \u001b[0;36mviolin\u001b[1;34m(adata, keys, groupby, log, use_raw, stripplot, jitter, size, layer, scale, order, multi_panel, xlabel, ylabel, rotation, show, save, ax, **kwds)\u001b[0m\n\u001b[0;32m    790\u001b[0m \u001b[38;5;28;01mif\u001b[39;00m multi_panel \u001b[38;5;129;01mand\u001b[39;00m groupby \u001b[38;5;129;01mis\u001b[39;00m \u001b[38;5;28;01mNone\u001b[39;00m \u001b[38;5;129;01mand\u001b[39;00m \u001b[38;5;28mlen\u001b[39m(ys) \u001b[38;5;241m==\u001b[39m \u001b[38;5;241m1\u001b[39m:\n\u001b[0;32m    791\u001b[0m     \u001b[38;5;66;03m# This is a quick and dirty way for adapting scales across several\u001b[39;00m\n\u001b[0;32m    792\u001b[0m     \u001b[38;5;66;03m# keys if groupby is None.\u001b[39;00m\n\u001b[0;32m    793\u001b[0m     y \u001b[38;5;241m=\u001b[39m ys[\u001b[38;5;241m0\u001b[39m]\n\u001b[1;32m--> 795\u001b[0m     g \u001b[38;5;241m=\u001b[39m \u001b[43msns\u001b[49m\u001b[38;5;241;43m.\u001b[39;49m\u001b[43mcatplot\u001b[49m\u001b[43m(\u001b[49m\n\u001b[0;32m    796\u001b[0m \u001b[43m        \u001b[49m\u001b[43my\u001b[49m\u001b[38;5;241;43m=\u001b[39;49m\u001b[43my\u001b[49m\u001b[43m,\u001b[49m\n\u001b[0;32m    797\u001b[0m \u001b[43m        \u001b[49m\u001b[43mdata\u001b[49m\u001b[38;5;241;43m=\u001b[39;49m\u001b[43mobs_tidy\u001b[49m\u001b[43m,\u001b[49m\n\u001b[0;32m    798\u001b[0m \u001b[43m        \u001b[49m\u001b[43mkind\u001b[49m\u001b[38;5;241;43m=\u001b[39;49m\u001b[38;5;124;43m\"\u001b[39;49m\u001b[38;5;124;43mviolin\u001b[39;49m\u001b[38;5;124;43m\"\u001b[39;49m\u001b[43m,\u001b[49m\n\u001b[0;32m    799\u001b[0m \u001b[43m        \u001b[49m\u001b[43mscale\u001b[49m\u001b[38;5;241;43m=\u001b[39;49m\u001b[43mscale\u001b[49m\u001b[43m,\u001b[49m\n\u001b[0;32m    800\u001b[0m \u001b[43m        \u001b[49m\u001b[43mcol\u001b[49m\u001b[38;5;241;43m=\u001b[39;49m\u001b[43mx\u001b[49m\u001b[43m,\u001b[49m\n\u001b[0;32m    801\u001b[0m \u001b[43m        \u001b[49m\u001b[43mcol_order\u001b[49m\u001b[38;5;241;43m=\u001b[39;49m\u001b[43mkeys\u001b[49m\u001b[43m,\u001b[49m\n\u001b[0;32m    802\u001b[0m \u001b[43m        \u001b[49m\u001b[43msharey\u001b[49m\u001b[38;5;241;43m=\u001b[39;49m\u001b[38;5;28;43;01mFalse\u001b[39;49;00m\u001b[43m,\u001b[49m\n\u001b[0;32m    803\u001b[0m \u001b[43m        \u001b[49m\u001b[43morder\u001b[49m\u001b[38;5;241;43m=\u001b[39;49m\u001b[43mkeys\u001b[49m\u001b[43m,\u001b[49m\n\u001b[0;32m    804\u001b[0m \u001b[43m        \u001b[49m\u001b[43mcut\u001b[49m\u001b[38;5;241;43m=\u001b[39;49m\u001b[38;5;241;43m0\u001b[39;49m\u001b[43m,\u001b[49m\n\u001b[0;32m    805\u001b[0m \u001b[43m        \u001b[49m\u001b[43minner\u001b[49m\u001b[38;5;241;43m=\u001b[39;49m\u001b[38;5;28;43;01mNone\u001b[39;49;00m\u001b[43m,\u001b[49m\n\u001b[0;32m    806\u001b[0m \u001b[43m        \u001b[49m\u001b[38;5;241;43m*\u001b[39;49m\u001b[38;5;241;43m*\u001b[39;49m\u001b[43mkwds\u001b[49m\u001b[43m,\u001b[49m\n\u001b[0;32m    807\u001b[0m \u001b[43m    \u001b[49m\u001b[43m)\u001b[49m\n\u001b[0;32m    809\u001b[0m     \u001b[38;5;28;01mif\u001b[39;00m stripplot:\n\u001b[0;32m    810\u001b[0m         grouped_df \u001b[38;5;241m=\u001b[39m obs_tidy\u001b[38;5;241m.\u001b[39mgroupby(x)\n",
      "File \u001b[1;32mC:\\Python311\\Lib\\site-packages\\seaborn\\categorical.py:2932\u001b[0m, in \u001b[0;36mcatplot\u001b[1;34m(data, x, y, hue, row, col, kind, estimator, errorbar, n_boot, units, seed, order, hue_order, row_order, col_order, col_wrap, height, aspect, log_scale, native_scale, formatter, orient, color, palette, hue_norm, legend, legend_out, sharex, sharey, margin_titles, facet_kws, ci, **kwargs)\u001b[0m\n\u001b[0;32m   2929\u001b[0m     linecolor \u001b[38;5;241m=\u001b[39m plot_kws\u001b[38;5;241m.\u001b[39mpop(\u001b[38;5;124m\"\u001b[39m\u001b[38;5;124mlinecolor\u001b[39m\u001b[38;5;124m\"\u001b[39m, \u001b[38;5;124m\"\u001b[39m\u001b[38;5;124mauto\u001b[39m\u001b[38;5;124m\"\u001b[39m)\n\u001b[0;32m   2930\u001b[0m     linecolor \u001b[38;5;241m=\u001b[39m p\u001b[38;5;241m.\u001b[39m_complement_color(linecolor, color, p\u001b[38;5;241m.\u001b[39m_hue_map)\n\u001b[1;32m-> 2932\u001b[0m     \u001b[43mp\u001b[49m\u001b[38;5;241;43m.\u001b[39;49m\u001b[43mplot_violins\u001b[49m\u001b[43m(\u001b[49m\n\u001b[0;32m   2933\u001b[0m \u001b[43m        \u001b[49m\u001b[43mwidth\u001b[49m\u001b[38;5;241;43m=\u001b[39;49m\u001b[43mwidth\u001b[49m\u001b[43m,\u001b[49m\n\u001b[0;32m   2934\u001b[0m \u001b[43m        \u001b[49m\u001b[43mdodge\u001b[49m\u001b[38;5;241;43m=\u001b[39;49m\u001b[43mdodge\u001b[49m\u001b[43m,\u001b[49m\n\u001b[0;32m   2935\u001b[0m \u001b[43m        \u001b[49m\u001b[43mgap\u001b[49m\u001b[38;5;241;43m=\u001b[39;49m\u001b[43mgap\u001b[49m\u001b[43m,\u001b[49m\n\u001b[0;32m   2936\u001b[0m \u001b[43m        \u001b[49m\u001b[43msplit\u001b[49m\u001b[38;5;241;43m=\u001b[39;49m\u001b[43msplit\u001b[49m\u001b[43m,\u001b[49m\n\u001b[0;32m   2937\u001b[0m \u001b[43m        \u001b[49m\u001b[43mcolor\u001b[49m\u001b[38;5;241;43m=\u001b[39;49m\u001b[43mcolor\u001b[49m\u001b[43m,\u001b[49m\n\u001b[0;32m   2938\u001b[0m \u001b[43m        \u001b[49m\u001b[43mfill\u001b[49m\u001b[38;5;241;43m=\u001b[39;49m\u001b[43mfill\u001b[49m\u001b[43m,\u001b[49m\n\u001b[0;32m   2939\u001b[0m \u001b[43m        \u001b[49m\u001b[43mlinecolor\u001b[49m\u001b[38;5;241;43m=\u001b[39;49m\u001b[43mlinecolor\u001b[49m\u001b[43m,\u001b[49m\n\u001b[0;32m   2940\u001b[0m \u001b[43m        \u001b[49m\u001b[43mlinewidth\u001b[49m\u001b[38;5;241;43m=\u001b[39;49m\u001b[43mlinewidth\u001b[49m\u001b[43m,\u001b[49m\n\u001b[0;32m   2941\u001b[0m \u001b[43m        \u001b[49m\u001b[43minner\u001b[49m\u001b[38;5;241;43m=\u001b[39;49m\u001b[43minner\u001b[49m\u001b[43m,\u001b[49m\n\u001b[0;32m   2942\u001b[0m \u001b[43m        \u001b[49m\u001b[43mdensity_norm\u001b[49m\u001b[38;5;241;43m=\u001b[39;49m\u001b[43mdensity_norm\u001b[49m\u001b[43m,\u001b[49m\n\u001b[0;32m   2943\u001b[0m \u001b[43m        \u001b[49m\u001b[43mcommon_norm\u001b[49m\u001b[38;5;241;43m=\u001b[39;49m\u001b[43mcommon_norm\u001b[49m\u001b[43m,\u001b[49m\n\u001b[0;32m   2944\u001b[0m \u001b[43m        \u001b[49m\u001b[43mkde_kws\u001b[49m\u001b[38;5;241;43m=\u001b[39;49m\u001b[43mkde_kws\u001b[49m\u001b[43m,\u001b[49m\n\u001b[0;32m   2945\u001b[0m \u001b[43m        \u001b[49m\u001b[43minner_kws\u001b[49m\u001b[38;5;241;43m=\u001b[39;49m\u001b[43minner_kws\u001b[49m\u001b[43m,\u001b[49m\n\u001b[0;32m   2946\u001b[0m \u001b[43m        \u001b[49m\u001b[43mplot_kws\u001b[49m\u001b[38;5;241;43m=\u001b[39;49m\u001b[43mplot_kws\u001b[49m\u001b[43m,\u001b[49m\n\u001b[0;32m   2947\u001b[0m \u001b[43m    \u001b[49m\u001b[43m)\u001b[49m\n\u001b[0;32m   2949\u001b[0m \u001b[38;5;28;01melif\u001b[39;00m kind \u001b[38;5;241m==\u001b[39m \u001b[38;5;124m\"\u001b[39m\u001b[38;5;124mboxen\u001b[39m\u001b[38;5;124m\"\u001b[39m:\n\u001b[0;32m   2951\u001b[0m     plot_kws \u001b[38;5;241m=\u001b[39m kwargs\u001b[38;5;241m.\u001b[39mcopy()\n",
      "File \u001b[1;32mC:\\Python311\\Lib\\site-packages\\seaborn\\categorical.py:1153\u001b[0m, in \u001b[0;36m_CategoricalPlotter.plot_violins\u001b[1;34m(self, width, dodge, gap, split, color, fill, linecolor, linewidth, inner, density_norm, common_norm, kde_kws, inner_kws, plot_kws)\u001b[0m\n\u001b[0;32m   1151\u001b[0m legend_artist \u001b[38;5;241m=\u001b[39m _get_patch_legend_artist(fill)\n\u001b[0;32m   1152\u001b[0m common_kws \u001b[38;5;241m=\u001b[39m {\u001b[38;5;241m*\u001b[39m\u001b[38;5;241m*\u001b[39mplot_kws, \u001b[38;5;124m\"\u001b[39m\u001b[38;5;124mlinewidth\u001b[39m\u001b[38;5;124m\"\u001b[39m: linewidth, \u001b[38;5;124m\"\u001b[39m\u001b[38;5;124medgecolor\u001b[39m\u001b[38;5;124m\"\u001b[39m: linecolor}\n\u001b[1;32m-> 1153\u001b[0m \u001b[38;5;28;43mself\u001b[39;49m\u001b[38;5;241;43m.\u001b[39;49m\u001b[43m_configure_legend\u001b[49m\u001b[43m(\u001b[49m\u001b[43max\u001b[49m\u001b[43m,\u001b[49m\u001b[43m \u001b[49m\u001b[43mlegend_artist\u001b[49m\u001b[43m,\u001b[49m\u001b[43m \u001b[49m\u001b[43mcommon_kws\u001b[49m\u001b[43m)\u001b[49m\n",
      "File \u001b[1;32mC:\\Python311\\Lib\\site-packages\\seaborn\\categorical.py:420\u001b[0m, in \u001b[0;36m_CategoricalPlotter._configure_legend\u001b[1;34m(self, ax, func, common_kws, semantic_kws)\u001b[0m\n\u001b[0;32m    418\u001b[0m \u001b[38;5;28;01mif\u001b[39;00m show_legend:\n\u001b[0;32m    419\u001b[0m     \u001b[38;5;28mself\u001b[39m\u001b[38;5;241m.\u001b[39madd_legend_data(ax, func, common_kws, semantic_kws\u001b[38;5;241m=\u001b[39msemantic_kws)\n\u001b[1;32m--> 420\u001b[0m     handles, _ \u001b[38;5;241m=\u001b[39m \u001b[43max\u001b[49m\u001b[38;5;241;43m.\u001b[39;49m\u001b[43mget_legend_handles_labels\u001b[49m()\n\u001b[0;32m    421\u001b[0m     \u001b[38;5;28;01mif\u001b[39;00m handles:\n\u001b[0;32m    422\u001b[0m         ax\u001b[38;5;241m.\u001b[39mlegend(title\u001b[38;5;241m=\u001b[39m\u001b[38;5;28mself\u001b[39m\u001b[38;5;241m.\u001b[39mlegend_title)\n",
      "\u001b[1;31mAttributeError\u001b[0m: 'NoneType' object has no attribute 'get_legend_handles_labels'"
     ]
    },
    {
     "data": {
      "image/png": "[encoded data removed]",
      "text/plain": [
       "<Figure size 1500x500 with 3 Axes>"
      ]
     },
     "metadata": {},
     "output_type": "display_data"
    }
   ],
   "source": [
    "### Three plot summary BEFORE filtering ###\n",
    "\n",
    "rna_adata.var['mt'] = rna_adata.var_names.str.startswith('MT-')  # annotate the group of mitochondrial genes as 'mt'\n",
    "sc.pp.calculate_qc_metrics(rna_adata, qc_vars=['mt'], percent_top=None, log1p=False, inplace=True)\n",
    "\n",
    "rna_adata.var_names_make_unique()\n",
    "\n",
    "sc.pl.violin(rna_adata, ['n_genes_by_counts', 'total_counts', 'pct_counts_mt'], jitter=0.4, multi_panel=True)\n",
    "\n",
    "rna_adata"
   ]
  },
  {
   "cell_type": "code",
   "execution_count": null,
   "id": "b360dd18",
   "metadata": {},
   "outputs": [],
   "source": [
    "### Summary of genes and counts BEFORE filtering ###\n",
    "\n",
    "sc.pl.scatter(rna_adata, x='total_counts', y='pct_counts_mt')\n",
    "sc.pl.scatter(rna_adata, x='total_counts', y='n_genes_by_counts')"
   ]
  },
  {
   "cell_type": "code",
   "execution_count": 86,
   "id": "67c38f65",
   "metadata": {},
   "outputs": [],
   "source": [
    "### Process to filtering steps ### NO FILTER STEPS SINCE WE ALREADY PROCESS TO CLEANING STEPS\n",
    "\n",
    "sc.pp.filter_cells(rna_adata, min_genes=200)\n",
    "sc.pp.filter_genes(rna_adata, min_cells=3)\n",
    "rna_adata = rna_adata[rna_adata.obs.n_genes_by_counts < 5000, :]\n",
    "rna_adata = rna_adata[rna_adata.obs.n_genes_by_counts > 350, :]\n",
    "rna_adata = rna_adata[rna_adata.obs.pct_counts_mt < 40, :]"
   ]
  },
  {
   "cell_type": "code",
   "execution_count": 87,
   "id": "dfceff18",
   "metadata": {},
   "outputs": [
    {
     "name": "stderr",
     "output_type": "stream",
     "text": [
      "C:\\Python311\\Lib\\site-packages\\scanpy\\plotting\\_anndata.py:795: FutureWarning: \n",
      "\n",
      "The `scale` parameter has been renamed and will be removed in v0.15.0. Pass `density_norm='width'` for the same effect.\n",
      "  g = sns.catplot(\n"
     ]
    },
    {
     "ename": "AttributeError",
     "evalue": "'NoneType' object has no attribute 'get_legend_handles_labels'",
     "output_type": "error",
     "traceback": [
      "\u001b[1;31m---------------------------------------------------------------------------\u001b[0m",
      "\u001b[1;31mAttributeError\u001b[0m                            Traceback (most recent call last)",
      "Cell \u001b[1;32mIn[87], line 3\u001b[0m\n\u001b[0;32m      1\u001b[0m \u001b[38;5;66;03m### Three plot summary AFTER filtering ###\u001b[39;00m\n\u001b[1;32m----> 3\u001b[0m \u001b[43msc\u001b[49m\u001b[38;5;241;43m.\u001b[39;49m\u001b[43mpl\u001b[49m\u001b[38;5;241;43m.\u001b[39;49m\u001b[43mviolin\u001b[49m\u001b[43m(\u001b[49m\u001b[43mrna_adata\u001b[49m\u001b[43m,\u001b[49m\u001b[43m \u001b[49m\u001b[43m[\u001b[49m\u001b[38;5;124;43m'\u001b[39;49m\u001b[38;5;124;43mn_genes_by_counts\u001b[39;49m\u001b[38;5;124;43m'\u001b[39;49m\u001b[43m,\u001b[49m\u001b[43m \u001b[49m\u001b[38;5;124;43m'\u001b[39;49m\u001b[38;5;124;43mtotal_counts\u001b[39;49m\u001b[38;5;124;43m'\u001b[39;49m\u001b[43m,\u001b[49m\u001b[43m \u001b[49m\u001b[38;5;124;43m'\u001b[39;49m\u001b[38;5;124;43mpct_counts_mt\u001b[39;49m\u001b[38;5;124;43m'\u001b[39;49m\u001b[43m]\u001b[49m\u001b[43m,\u001b[49m\n\u001b[0;32m      4\u001b[0m \u001b[43m             \u001b[49m\u001b[43mjitter\u001b[49m\u001b[38;5;241;43m=\u001b[39;49m\u001b[38;5;241;43m0.4\u001b[39;49m\u001b[43m,\u001b[49m\u001b[43m \u001b[49m\u001b[43mmulti_panel\u001b[49m\u001b[38;5;241;43m=\u001b[39;49m\u001b[38;5;28;43;01mTrue\u001b[39;49;00m\u001b[43m)\u001b[49m\n\u001b[0;32m      6\u001b[0m rna_adata\n",
      "File \u001b[1;32mC:\\Python311\\Lib\\site-packages\\scanpy\\plotting\\_anndata.py:795\u001b[0m, in \u001b[0;36mviolin\u001b[1;34m(adata, keys, groupby, log, use_raw, stripplot, jitter, size, layer, scale, order, multi_panel, xlabel, ylabel, rotation, show, save, ax, **kwds)\u001b[0m\n\u001b[0;32m    790\u001b[0m \u001b[38;5;28;01mif\u001b[39;00m multi_panel \u001b[38;5;129;01mand\u001b[39;00m groupby \u001b[38;5;129;01mis\u001b[39;00m \u001b[38;5;28;01mNone\u001b[39;00m \u001b[38;5;129;01mand\u001b[39;00m \u001b[38;5;28mlen\u001b[39m(ys) \u001b[38;5;241m==\u001b[39m \u001b[38;5;241m1\u001b[39m:\n\u001b[0;32m    791\u001b[0m     \u001b[38;5;66;03m# This is a quick and dirty way for adapting scales across several\u001b[39;00m\n\u001b[0;32m    792\u001b[0m     \u001b[38;5;66;03m# keys if groupby is None.\u001b[39;00m\n\u001b[0;32m    793\u001b[0m     y \u001b[38;5;241m=\u001b[39m ys[\u001b[38;5;241m0\u001b[39m]\n\u001b[1;32m--> 795\u001b[0m     g \u001b[38;5;241m=\u001b[39m \u001b[43msns\u001b[49m\u001b[38;5;241;43m.\u001b[39;49m\u001b[43mcatplot\u001b[49m\u001b[43m(\u001b[49m\n\u001b[0;32m    796\u001b[0m \u001b[43m        \u001b[49m\u001b[43my\u001b[49m\u001b[38;5;241;43m=\u001b[39;49m\u001b[43my\u001b[49m\u001b[43m,\u001b[49m\n\u001b[0;32m    797\u001b[0m \u001b[43m        \u001b[49m\u001b[43mdata\u001b[49m\u001b[38;5;241;43m=\u001b[39;49m\u001b[43mobs_tidy\u001b[49m\u001b[43m,\u001b[49m\n\u001b[0;32m    798\u001b[0m \u001b[43m        \u001b[49m\u001b[43mkind\u001b[49m\u001b[38;5;241;43m=\u001b[39;49m\u001b[38;5;124;43m\"\u001b[39;49m\u001b[38;5;124;43mviolin\u001b[39;49m\u001b[38;5;124;43m\"\u001b[39;49m\u001b[43m,\u001b[49m\n\u001b[0;32m    799\u001b[0m \u001b[43m        \u001b[49m\u001b[43mscale\u001b[49m\u001b[38;5;241;43m=\u001b[39;49m\u001b[43mscale\u001b[49m\u001b[43m,\u001b[49m\n\u001b[0;32m    800\u001b[0m \u001b[43m        \u001b[49m\u001b[43mcol\u001b[49m\u001b[38;5;241;43m=\u001b[39;49m\u001b[43mx\u001b[49m\u001b[43m,\u001b[49m\n\u001b[0;32m    801\u001b[0m \u001b[43m        \u001b[49m\u001b[43mcol_order\u001b[49m\u001b[38;5;241;43m=\u001b[39;49m\u001b[43mkeys\u001b[49m\u001b[43m,\u001b[49m\n\u001b[0;32m    802\u001b[0m \u001b[43m        \u001b[49m\u001b[43msharey\u001b[49m\u001b[38;5;241;43m=\u001b[39;49m\u001b[38;5;28;43;01mFalse\u001b[39;49;00m\u001b[43m,\u001b[49m\n\u001b[0;32m    803\u001b[0m \u001b[43m        \u001b[49m\u001b[43morder\u001b[49m\u001b[38;5;241;43m=\u001b[39;49m\u001b[43mkeys\u001b[49m\u001b[43m,\u001b[49m\n\u001b[0;32m    804\u001b[0m \u001b[43m        \u001b[49m\u001b[43mcut\u001b[49m\u001b[38;5;241;43m=\u001b[39;49m\u001b[38;5;241;43m0\u001b[39;49m\u001b[43m,\u001b[49m\n\u001b[0;32m    805\u001b[0m \u001b[43m        \u001b[49m\u001b[43minner\u001b[49m\u001b[38;5;241;43m=\u001b[39;49m\u001b[38;5;28;43;01mNone\u001b[39;49;00m\u001b[43m,\u001b[49m\n\u001b[0;32m    806\u001b[0m \u001b[43m        \u001b[49m\u001b[38;5;241;43m*\u001b[39;49m\u001b[38;5;241;43m*\u001b[39;49m\u001b[43mkwds\u001b[49m\u001b[43m,\u001b[49m\n\u001b[0;32m    807\u001b[0m \u001b[43m    \u001b[49m\u001b[43m)\u001b[49m\n\u001b[0;32m    809\u001b[0m     \u001b[38;5;28;01mif\u001b[39;00m stripplot:\n\u001b[0;32m    810\u001b[0m         grouped_df \u001b[38;5;241m=\u001b[39m obs_tidy\u001b[38;5;241m.\u001b[39mgroupby(x)\n",
      "File \u001b[1;32mC:\\Python311\\Lib\\site-packages\\seaborn\\categorical.py:2932\u001b[0m, in \u001b[0;36mcatplot\u001b[1;34m(data, x, y, hue, row, col, kind, estimator, errorbar, n_boot, units, seed, order, hue_order, row_order, col_order, col_wrap, height, aspect, log_scale, native_scale, formatter, orient, color, palette, hue_norm, legend, legend_out, sharex, sharey, margin_titles, facet_kws, ci, **kwargs)\u001b[0m\n\u001b[0;32m   2929\u001b[0m     linecolor \u001b[38;5;241m=\u001b[39m plot_kws\u001b[38;5;241m.\u001b[39mpop(\u001b[38;5;124m\"\u001b[39m\u001b[38;5;124mlinecolor\u001b[39m\u001b[38;5;124m\"\u001b[39m, \u001b[38;5;124m\"\u001b[39m\u001b[38;5;124mauto\u001b[39m\u001b[38;5;124m\"\u001b[39m)\n\u001b[0;32m   2930\u001b[0m     linecolor \u001b[38;5;241m=\u001b[39m p\u001b[38;5;241m.\u001b[39m_complement_color(linecolor, color, p\u001b[38;5;241m.\u001b[39m_hue_map)\n\u001b[1;32m-> 2932\u001b[0m     \u001b[43mp\u001b[49m\u001b[38;5;241;43m.\u001b[39;49m\u001b[43mplot_violins\u001b[49m\u001b[43m(\u001b[49m\n\u001b[0;32m   2933\u001b[0m \u001b[43m        \u001b[49m\u001b[43mwidth\u001b[49m\u001b[38;5;241;43m=\u001b[39;49m\u001b[43mwidth\u001b[49m\u001b[43m,\u001b[49m\n\u001b[0;32m   2934\u001b[0m \u001b[43m        \u001b[49m\u001b[43mdodge\u001b[49m\u001b[38;5;241;43m=\u001b[39;49m\u001b[43mdodge\u001b[49m\u001b[43m,\u001b[49m\n\u001b[0;32m   2935\u001b[0m \u001b[43m        \u001b[49m\u001b[43mgap\u001b[49m\u001b[38;5;241;43m=\u001b[39;49m\u001b[43mgap\u001b[49m\u001b[43m,\u001b[49m\n\u001b[0;32m   2936\u001b[0m \u001b[43m        \u001b[49m\u001b[43msplit\u001b[49m\u001b[38;5;241;43m=\u001b[39;49m\u001b[43msplit\u001b[49m\u001b[43m,\u001b[49m\n\u001b[0;32m   2937\u001b[0m \u001b[43m        \u001b[49m\u001b[43mcolor\u001b[49m\u001b[38;5;241;43m=\u001b[39;49m\u001b[43mcolor\u001b[49m\u001b[43m,\u001b[49m\n\u001b[0;32m   2938\u001b[0m \u001b[43m        \u001b[49m\u001b[43mfill\u001b[49m\u001b[38;5;241;43m=\u001b[39;49m\u001b[43mfill\u001b[49m\u001b[43m,\u001b[49m\n\u001b[0;32m   2939\u001b[0m \u001b[43m        \u001b[49m\u001b[43mlinecolor\u001b[49m\u001b[38;5;241;43m=\u001b[39;49m\u001b[43mlinecolor\u001b[49m\u001b[43m,\u001b[49m\n\u001b[0;32m   2940\u001b[0m \u001b[43m        \u001b[49m\u001b[43mlinewidth\u001b[49m\u001b[38;5;241;43m=\u001b[39;49m\u001b[43mlinewidth\u001b[49m\u001b[43m,\u001b[49m\n\u001b[0;32m   2941\u001b[0m \u001b[43m        \u001b[49m\u001b[43minner\u001b[49m\u001b[38;5;241;43m=\u001b[39;49m\u001b[43minner\u001b[49m\u001b[43m,\u001b[49m\n\u001b[0;32m   2942\u001b[0m \u001b[43m        \u001b[49m\u001b[43mdensity_norm\u001b[49m\u001b[38;5;241;43m=\u001b[39;49m\u001b[43mdensity_norm\u001b[49m\u001b[43m,\u001b[49m\n\u001b[0;32m   2943\u001b[0m \u001b[43m        \u001b[49m\u001b[43mcommon_norm\u001b[49m\u001b[38;5;241;43m=\u001b[39;49m\u001b[43mcommon_norm\u001b[49m\u001b[43m,\u001b[49m\n\u001b[0;32m   2944\u001b[0m \u001b[43m        \u001b[49m\u001b[43mkde_kws\u001b[49m\u001b[38;5;241;43m=\u001b[39;49m\u001b[43mkde_kws\u001b[49m\u001b[43m,\u001b[49m\n\u001b[0;32m   2945\u001b[0m \u001b[43m        \u001b[49m\u001b[43minner_kws\u001b[49m\u001b[38;5;241;43m=\u001b[39;49m\u001b[43minner_kws\u001b[49m\u001b[43m,\u001b[49m\n\u001b[0;32m   2946\u001b[0m \u001b[43m        \u001b[49m\u001b[43mplot_kws\u001b[49m\u001b[38;5;241;43m=\u001b[39;49m\u001b[43mplot_kws\u001b[49m\u001b[43m,\u001b[49m\n\u001b[0;32m   2947\u001b[0m \u001b[43m    \u001b[49m\u001b[43m)\u001b[49m\n\u001b[0;32m   2949\u001b[0m \u001b[38;5;28;01melif\u001b[39;00m kind \u001b[38;5;241m==\u001b[39m \u001b[38;5;124m\"\u001b[39m\u001b[38;5;124mboxen\u001b[39m\u001b[38;5;124m\"\u001b[39m:\n\u001b[0;32m   2951\u001b[0m     plot_kws \u001b[38;5;241m=\u001b[39m kwargs\u001b[38;5;241m.\u001b[39mcopy()\n",
      "File \u001b[1;32mC:\\Python311\\Lib\\site-packages\\seaborn\\categorical.py:1153\u001b[0m, in \u001b[0;36m_CategoricalPlotter.plot_violins\u001b[1;34m(self, width, dodge, gap, split, color, fill, linecolor, linewidth, inner, density_norm, common_norm, kde_kws, inner_kws, plot_kws)\u001b[0m\n\u001b[0;32m   1151\u001b[0m legend_artist \u001b[38;5;241m=\u001b[39m _get_patch_legend_artist(fill)\n\u001b[0;32m   1152\u001b[0m common_kws \u001b[38;5;241m=\u001b[39m {\u001b[38;5;241m*\u001b[39m\u001b[38;5;241m*\u001b[39mplot_kws, \u001b[38;5;124m\"\u001b[39m\u001b[38;5;124mlinewidth\u001b[39m\u001b[38;5;124m\"\u001b[39m: linewidth, \u001b[38;5;124m\"\u001b[39m\u001b[38;5;124medgecolor\u001b[39m\u001b[38;5;124m\"\u001b[39m: linecolor}\n\u001b[1;32m-> 1153\u001b[0m \u001b[38;5;28;43mself\u001b[39;49m\u001b[38;5;241;43m.\u001b[39;49m\u001b[43m_configure_legend\u001b[49m\u001b[43m(\u001b[49m\u001b[43max\u001b[49m\u001b[43m,\u001b[49m\u001b[43m \u001b[49m\u001b[43mlegend_artist\u001b[49m\u001b[43m,\u001b[49m\u001b[43m \u001b[49m\u001b[43mcommon_kws\u001b[49m\u001b[43m)\u001b[49m\n",
      "File \u001b[1;32mC:\\Python311\\Lib\\site-packages\\seaborn\\categorical.py:420\u001b[0m, in \u001b[0;36m_CategoricalPlotter._configure_legend\u001b[1;34m(self, ax, func, common_kws, semantic_kws)\u001b[0m\n\u001b[0;32m    418\u001b[0m \u001b[38;5;28;01mif\u001b[39;00m show_legend:\n\u001b[0;32m    419\u001b[0m     \u001b[38;5;28mself\u001b[39m\u001b[38;5;241m.\u001b[39madd_legend_data(ax, func, common_kws, semantic_kws\u001b[38;5;241m=\u001b[39msemantic_kws)\n\u001b[1;32m--> 420\u001b[0m     handles, _ \u001b[38;5;241m=\u001b[39m \u001b[43max\u001b[49m\u001b[38;5;241;43m.\u001b[39;49m\u001b[43mget_legend_handles_labels\u001b[49m()\n\u001b[0;32m    421\u001b[0m     \u001b[38;5;28;01mif\u001b[39;00m handles:\n\u001b[0;32m    422\u001b[0m         ax\u001b[38;5;241m.\u001b[39mlegend(title\u001b[38;5;241m=\u001b[39m\u001b[38;5;28mself\u001b[39m\u001b[38;5;241m.\u001b[39mlegend_title)\n",
      "\u001b[1;31mAttributeError\u001b[0m: 'NoneType' object has no attribute 'get_legend_handles_labels'"
     ]
    },
    {
     "data": {
      "image/png": "[encoded data removed]",
      "text/plain": [
       "<Figure size 1500x500 with 3 Axes>"
      ]
     },
     "metadata": {},
     "output_type": "display_data"
    }
   ],
   "source": [
    "### Three plot summary AFTER filtering ###\n",
    "\n",
    "sc.pl.violin(rna_adata, ['n_genes_by_counts', 'total_counts', 'pct_counts_mt'],\n",
    "             jitter=0.4, multi_panel=True)\n",
    "\n",
    "rna_adata"
   ]
  },
  {
   "cell_type": "code",
   "execution_count": null,
   "id": "938566f2",
   "metadata": {},
   "outputs": [],
   "source": [
    "### Summary of genes and counts AFTER filtering ###\n",
    "\n",
    "sc.pl.scatter(rna_adata, x='total_counts', y='pct_counts_mt')\n",
    "sc.pl.scatter(rna_adata, x='total_counts', y='n_genes_by_counts')"
   ]
  },
  {
   "cell_type": "code",
   "execution_count": null,
   "id": "87b6eda7",
   "metadata": {},
   "outputs": [],
   "source": [
    "### Top ranking expressed gene ###\n",
    "\n",
    "sc.pl.highest_expr_genes(prot_adata, n_top=20, )"
   ]
  },
  {
   "cell_type": "code",
   "execution_count": null,
   "id": "e1de780a",
   "metadata": {},
   "outputs": [],
   "source": [
    "### Three plot summary BEFORE filtering ###\n",
    "\n",
    "prot_adata.var['mt'] = prot_adata.var_names.str.startswith('MT-')  # annotate the group of mitochondrial genes as 'mt'\n",
    "sc.pp.calculate_qc_metrics(prot_adata, qc_vars=['mt'], percent_top=None, log1p=False, inplace=True)\n",
    "\n",
    "prot_adata.var_names_make_unique()\n",
    "\n",
    "sc.pl.violin(prot_adata, ['n_genes_by_counts', 'total_counts', 'pct_counts_mt'],\n",
    "             jitter=0.4, multi_panel=True)\n",
    "\n",
    "prot_adata"
   ]
  },
  {
   "cell_type": "code",
   "execution_count": 88,
   "id": "7063daaa",
   "metadata": {},
   "outputs": [
    {
     "ename": "ValueError",
     "evalue": "`x`, `y`, and potential `color` inputs must all come from either `.obs` or `.var`",
     "output_type": "error",
     "traceback": [
      "\u001b[1;31m---------------------------------------------------------------------------\u001b[0m",
      "\u001b[1;31mValueError\u001b[0m                                Traceback (most recent call last)",
      "Cell \u001b[1;32mIn[88], line 3\u001b[0m\n\u001b[0;32m      1\u001b[0m \u001b[38;5;66;03m### Summary of genes and counts BEFORE filtering ###\u001b[39;00m\n\u001b[1;32m----> 3\u001b[0m \u001b[43msc\u001b[49m\u001b[38;5;241;43m.\u001b[39;49m\u001b[43mpl\u001b[49m\u001b[38;5;241;43m.\u001b[39;49m\u001b[43mscatter\u001b[49m\u001b[43m(\u001b[49m\u001b[43mprot_adata\u001b[49m\u001b[43m,\u001b[49m\u001b[43m \u001b[49m\u001b[43mx\u001b[49m\u001b[38;5;241;43m=\u001b[39;49m\u001b[38;5;124;43m'\u001b[39;49m\u001b[38;5;124;43mtotal_counts\u001b[39;49m\u001b[38;5;124;43m'\u001b[39;49m\u001b[43m,\u001b[49m\u001b[43m \u001b[49m\u001b[43my\u001b[49m\u001b[38;5;241;43m=\u001b[39;49m\u001b[38;5;124;43m'\u001b[39;49m\u001b[38;5;124;43mpct_counts_mt\u001b[39;49m\u001b[38;5;124;43m'\u001b[39;49m\u001b[43m)\u001b[49m\n\u001b[0;32m      4\u001b[0m sc\u001b[38;5;241m.\u001b[39mpl\u001b[38;5;241m.\u001b[39mscatter(prot_adata, x\u001b[38;5;241m=\u001b[39m\u001b[38;5;124m'\u001b[39m\u001b[38;5;124mtotal_counts\u001b[39m\u001b[38;5;124m'\u001b[39m, y\u001b[38;5;241m=\u001b[39m\u001b[38;5;124m'\u001b[39m\u001b[38;5;124mn_genes_by_counts\u001b[39m\u001b[38;5;124m'\u001b[39m)\n",
      "File \u001b[1;32mC:\\Python311\\Lib\\site-packages\\scanpy\\plotting\\_anndata.py:150\u001b[0m, in \u001b[0;36mscatter\u001b[1;34m(adata, x, y, color, use_raw, layers, sort_order, alpha, basis, groups, components, projection, legend_loc, legend_fontsize, legend_fontweight, legend_fontoutline, color_map, palette, frameon, right_margin, left_margin, size, title, show, save, ax)\u001b[0m\n\u001b[0;32m    148\u001b[0m     adata\u001b[38;5;241m.\u001b[39muns \u001b[38;5;241m=\u001b[39m adata_T\u001b[38;5;241m.\u001b[39muns\n\u001b[0;32m    149\u001b[0m     \u001b[38;5;28;01mreturn\u001b[39;00m axs\n\u001b[1;32m--> 150\u001b[0m \u001b[38;5;28;01mraise\u001b[39;00m \u001b[38;5;167;01mValueError\u001b[39;00m(\n\u001b[0;32m    151\u001b[0m     \u001b[38;5;124m'\u001b[39m\u001b[38;5;124m`x`, `y`, and potential `color` inputs must all \u001b[39m\u001b[38;5;124m'\u001b[39m\n\u001b[0;32m    152\u001b[0m     \u001b[38;5;124m'\u001b[39m\u001b[38;5;124mcome from either `.obs` or `.var`\u001b[39m\u001b[38;5;124m'\u001b[39m\n\u001b[0;32m    153\u001b[0m )\n",
      "\u001b[1;31mValueError\u001b[0m: `x`, `y`, and potential `color` inputs must all come from either `.obs` or `.var`"
     ]
    }
   ],
   "source": [
    "### Summary of genes and counts BEFORE filtering ###\n",
    "\n",
    "sc.pl.scatter(prot_adata, x='total_counts', y='pct_counts_mt')\n",
    "sc.pl.scatter(prot_adata, x='total_counts', y='n_genes_by_counts')"
   ]
  },
  {
   "cell_type": "code",
   "execution_count": 118,
   "id": "fcca9175",
   "metadata": {},
   "outputs": [],
   "source": [
    "# Assuming 'adata' is your AnnData object\n",
    "adata.obs['Sample'] = [index.split('-1_')[1] for index in adata.obs.index]"
   ]
  },
  {
   "cell_type": "code",
   "execution_count": 124,
   "id": "503bc854",
   "metadata": {},
   "outputs": [],
   "source": [
    "# Extract the count matrix and convert it to a dense matrix\n",
    "count_mtx = rna_adata.X.toarray()"
   ]
  },
  {
   "cell_type": "code",
   "execution_count": 126,
   "id": "036ecdcf",
   "metadata": {},
   "outputs": [],
   "source": [
    "# Transpose the count matrix to have genes on rows and cells on columns\n",
    "df = pd.DataFrame(count_mtx.transpose(), index=rna_adata.var_names, columns=rna_adata.obs_names)\n",
    "\n",
    "# Save the transposed DataFrame as a CSV file\n",
    "df.to_csv(\"./data/output/SC_0_Umbrella_Clones.csv\")"
   ]
  }
 ],
 "metadata": {
  "kernelspec": {
   "display_name": "Python 3 (ipykernel)",
   "language": "python",
   "name": "python3"
  },
  "language_info": {
   "codemirror_mode": {
    "name": "ipython",
    "version": 3
   },
   "file_extension": ".py",
   "mimetype": "text/x-python",
   "name": "python",
   "nbconvert_exporter": "python",
   "pygments_lexer": "ipython3",
   "version": "3.11.4"
  }
 },
 "nbformat": 4,
 "nbformat_minor": 5
}
